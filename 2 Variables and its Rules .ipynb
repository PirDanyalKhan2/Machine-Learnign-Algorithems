{
 "cells": [
  {
   "cell_type": "code",
   "execution_count": null,
   "id": "18bd0312-fd7e-4aa9-bf35-44c16ec82a71",
   "metadata": {},
   "outputs": [],
   "source": [
    "\"\"\"Variables in Python\n",
    "A variable is like a container that holds data. \n",
    "In Python, variables are created when you assign a value to them using the = operator.\"\"\"\n",
    "\n",
    "#Example:\n",
    "\n",
    "name = \"Alice\"  # A string variable\n",
    "age = 25        # An integer variable\n",
    "height = 5.7    # A float variable"
   ]
  },
  {
   "cell_type": "code",
   "execution_count": null,
   "id": "403dd614-24fd-495c-ae44-75a7ba048db0",
   "metadata": {},
   "outputs": [],
   "source": [
    "#Rules pf Varible \n",
    "\"\"\"\n",
    "Rules for Naming Variables\n",
    "Start with a letter or an underscore (_):\n",
    "\n",
    "Valid: name, _name, age1\n",
    "Invalid: 1name, -age\n",
    "Cannot use spaces:\n",
    "\n",
    "Use underscores (_) instead of spaces.\n",
    "Example: first_name (valid), first name (invalid).\n",
    "Can only contain letters, numbers, and underscores:\n",
    "\n",
    "Valid: user_name, score123\n",
    "Invalid: user-name, score@123\n",
    "Cannot use Python keywords or built-in function names:\n",
    "\n",
    "Keywords are reserved words in Python, like if, else, while, def, etc.\n",
    "Example: if = 5 is invalid because if is a keyword.\n",
    "Variable names are case-sensitive:\n",
    "\n",
    "Example: name, Name, and NAME are all different variables.\"\"\""
   ]
  },
  {
   "cell_type": "code",
   "execution_count": null,
   "id": "475443a3-490b-4369-9a49-01854f1553bc",
   "metadata": {},
   "outputs": [],
   "source": [
    "#Best Practices for Naming Variables\n",
    "\"\"\"\n",
    "Use meaningful names:\n",
    "\n",
    "Bad: x = 10\n",
    "Good: age = 10\n",
    "Follow snake_case for readability:\n",
    "\n",
    "Example: user_name, account_balance\n",
    "Keep names concise but descriptive:\n",
    "\n",
    "Example: total_score, not ts.\"\"\""
   ]
  },
  {
   "cell_type": "code",
   "execution_count": null,
   "id": "e0234c64-869f-4978-b372-d8ee7acc9e1a",
   "metadata": {},
   "outputs": [],
   "source": [
    "#Variable Assignment and Examples\n",
    "\"\"\"\n",
    "Assigning values:\n",
    "\n",
    "python\n",
    "Copy code\"\"\"\n",
    "x = 5       # Assign integer\n",
    "name = \"Tom\" # Assign string\n",
    "pi = 3.14   # Assign float\n",
    "\n",
    "\n",
    "#Multiple assignments in one line:\n",
    "\n",
    "\"\"\"python\n",
    "Copy code\"\"\"\n",
    "\n",
    "a, b, c = 1, 2, 3  # Assigns 1 to a, 2 to b, 3 to c\n",
    "x = y = z = 0      # Assigns 0 to x, y, and z\n",
    "\n",
    "#Changing variable types (dynamic typing):\n",
    "\"\"\"\n",
    "python\n",
    "Copy code\n",
    "\"\"\"\n",
    "value = 10       # Integer\n",
    "value = \"hello\"  # Now a string"
   ]
  }
 ],
 "metadata": {
  "kernelspec": {
   "display_name": "Python 3 (ipykernel)",
   "language": "python",
   "name": "python3"
  },
  "language_info": {
   "codemirror_mode": {
    "name": "ipython",
    "version": 3
   },
   "file_extension": ".py",
   "mimetype": "text/x-python",
   "name": "python",
   "nbconvert_exporter": "python",
   "pygments_lexer": "ipython3",
   "version": "3.10.4"
  }
 },
 "nbformat": 4,
 "nbformat_minor": 5
}
