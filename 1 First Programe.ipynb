{
 "cells": [
  {
   "cell_type": "markdown",
   "id": "ace71ad7-c585-4b49-bcca-c73b1abee521",
   "metadata": {},
   "source": []
  },
  {
   "cell_type": "code",
   "execution_count": 1,
   "id": "3940ff12",
   "metadata": {},
   "outputs": [
    {
     "name": "stdout",
     "output_type": "stream",
     "text": [
      "[1, 2, 4, 4, 5, 6, 7, 8, 9]\n"
     ]
    }
   ],
   "source": [
    "n=[1,2,4,4,5,6,7,8,9]\n",
    "print(n)\n"
   ]
  },
  {
   "cell_type": "code",
   "execution_count": 5,
   "id": "87fc568e",
   "metadata": {},
   "outputs": [
    {
     "name": "stdout",
     "output_type": "stream",
     "text": [
      "<filter object at 0x000001C3FBD43520>\n"
     ]
    }
   ],
   "source": [
    "a=filter(2,n)\n",
    "print(a)"
   ]
  },
  {
   "cell_type": "code",
   "execution_count": 2,
   "id": "36c476f8-2ee3-4fbf-83f6-21dcb9a85d9d",
   "metadata": {},
   "outputs": [
    {
     "ename": "SyntaxError",
     "evalue": "unterminated string literal (detected at line 1) (266672754.py, line 1)",
     "output_type": "error",
     "traceback": [
      "\u001b[1;36m  Cell \u001b[1;32mIn[2], line 1\u001b[1;36m\u001b[0m\n\u001b[1;33m    print('hellow'khan')\u001b[0m\n\u001b[1;37m                      ^\u001b[0m\n\u001b[1;31mSyntaxError\u001b[0m\u001b[1;31m:\u001b[0m unterminated string literal (detected at line 1)\n"
     ]
    }
   ],
   "source": [
    "print('hellow'khan')"
   ]
  },
  {
   "cell_type": "code",
   "execution_count": 5,
   "id": "417acf3c-b502-4017-9595-336fe7e3fad9",
   "metadata": {},
   "outputs": [
    {
     "name": "stdout",
     "output_type": "stream",
     "text": [
      "it's khan\n"
     ]
    }
   ],
   "source": [
    "\"\"\"Explanation of an Apostrophe in Simple Terms:\n",
    "An apostrophe (') is a symbol used in English and programming. Here's what it means in simple ways:\n",
    "\n",
    "In English (Grammar):\n",
    "\n",
    "It shows possession: Ali's book (the book belongs to Ali).\n",
    "It contracts words: can't (short for cannot), it's (short for it is).\n",
    "In Programming:\n",
    "\n",
    "An apostrophe (or single quote) is often used to enclose text (a string) in some programming languages, including Python.\"\"\"\"\"\"\"\"\"\n",
    "\n",
    "print('it\\'s khan')"
   ]
  },
  {
   "cell_type": "code",
   "execution_count": 1,
   "id": "9855ba8e-2945-446a-b1b3-3c1b2d0423e8",
   "metadata": {},
   "outputs": [
    {
     "name": "stdout",
     "output_type": "stream",
     "text": [
      "Hellow Ihta!\n"
     ]
    }
   ],
   "source": [
    "print(\"Hellow Ihta!\")"
   ]
  },
  {
   "cell_type": "code",
   "execution_count": 8,
   "id": "8a9df446-b9b5-4d6f-be3f-79fe1701ee68",
   "metadata": {},
   "outputs": [
    {
     "name": "stdout",
     "output_type": "stream",
     "text": [
      "Hello, World!\n"
     ]
    }
   ],
   "source": [
    "#Comments Single line comments and Multilines Commnts \n",
    "\n",
    "\"\"\"\n",
    "Comments in Programming\n",
    "Comments are notes in your code that the interpreter or compiler ignores. \n",
    "They are used to explain what the code does, make it easier to understand, or \n",
    "temporarily disable parts of the code during testing.\n",
    "\"\"\"\n",
    "# This is a single-line comment\n",
    "\"\"\"Single-line Comments\n",
    "Single-line comments are written on a single line. In Python, they start with a #.\n",
    "\n",
    "Example:\"\"\"\n",
    "print(\"Hello, World!\")  # This prints a message"
   ]
  },
  {
   "cell_type": "code",
   "execution_count": 9,
   "id": "c75172e4-26ad-4016-b92e-b80f839e8bd5",
   "metadata": {},
   "outputs": [
    {
     "name": "stdout",
     "output_type": "stream",
     "text": [
      "Using triple quotes\n"
     ]
    }
   ],
   "source": [
    "\"\"\"\n",
    "Multi-line Comments\n",
    "Multi-line comments span across multiple lines. In Python, there are two common ways to write them:\n",
    "\"\"\"\n",
    "\n",
    "\"\"\"\n",
    "This is a multi-line comment.\n",
    "It spans multiple lines.\n",
    "\"\"\"\n",
    "print(\"Using triple quotes\")"
   ]
  }
 ],
 "metadata": {
  "kernelspec": {
   "display_name": "Python 3",
   "language": "python",
   "name": "python3"
  },
  "language_info": {
   "codemirror_mode": {
    "name": "ipython",
    "version": 3
   },
   "file_extension": ".py",
   "mimetype": "text/x-python",
   "name": "python",
   "nbconvert_exporter": "python",
   "pygments_lexer": "ipython3",
   "version": "3.10.4"
  }
 },
 "nbformat": 4,
 "nbformat_minor": 5
}
